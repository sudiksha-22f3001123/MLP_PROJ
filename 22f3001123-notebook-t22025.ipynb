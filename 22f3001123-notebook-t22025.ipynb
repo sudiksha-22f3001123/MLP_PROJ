{
 "cells": [
  {
   "cell_type": "markdown",
   "id": "b3d66a98",
   "metadata": {
    "papermill": {
     "duration": 0.007669,
     "end_time": "2025-07-27T18:07:44.402418",
     "exception": false,
     "start_time": "2025-07-27T18:07:44.394749",
     "status": "completed"
    },
    "tags": []
   },
   "source": [
    "# **1. Project Initialization**"
   ]
  },
  {
   "cell_type": "markdown",
   "id": "f08d09ed",
   "metadata": {
    "papermill": {
     "duration": 0.006823,
     "end_time": "2025-07-27T18:07:44.416301",
     "exception": false,
     "start_time": "2025-07-27T18:07:44.409478",
     "status": "completed"
    },
    "tags": []
   },
   "source": [
    "# 1.1. Import Essential Libraries\n",
    "\n",
    "All the necessary Python libraries for the project are imported. Included are pandas and numpy for data manipulation, matplotlib and seaborn for visualizations, and various modules from sklearn and xgboost for modeling and evaluation."
   ]
  },
  {
   "cell_type": "code",
   "execution_count": 1,
   "id": "4229b138",
   "metadata": {
    "execution": {
     "iopub.execute_input": "2025-07-27T18:07:44.430737Z",
     "iopub.status.busy": "2025-07-27T18:07:44.430421Z",
     "iopub.status.idle": "2025-07-27T18:07:48.876011Z",
     "shell.execute_reply": "2025-07-27T18:07:48.874973Z"
    },
    "papermill": {
     "duration": 4.45477,
     "end_time": "2025-07-27T18:07:48.877844",
     "exception": false,
     "start_time": "2025-07-27T18:07:44.423074",
     "status": "completed"
    },
    "tags": []
   },
   "outputs": [],
   "source": [
    "import pandas as pd\n",
    "import numpy as np\n",
    "import matplotlib.pyplot as plt\n",
    "import seaborn as sns\n",
    "from sklearn.ensemble import RandomForestRegressor\n",
    "from sklearn.impute import SimpleImputer\n",
    "from sklearn.preprocessing import StandardScaler\n",
    "from sklearn.model_selection import train_test_split\n",
    "from sklearn.metrics import r2_score\n",
    "from sklearn.linear_model import LinearRegression\n",
    "import xgboost as xgb\n",
    "\n",
    "# Set plot style for a consistent look\n",
    "sns.set_style('whitegrid')\n",
    "plt.rcParams['figure.figsize'] = (12, 7) # Set default figure size"
   ]
  },
  {
   "cell_type": "markdown",
   "id": "1d98318d",
   "metadata": {
    "papermill": {
     "duration": 0.006262,
     "end_time": "2025-07-27T18:07:48.890905",
     "exception": false,
     "start_time": "2025-07-27T18:07:48.884643",
     "status": "completed"
    },
    "tags": []
   },
   "source": [
    "# 1.2. Load Datasets\n",
    "\n",
    "Next, we load the training and testing data from the provided CSV files. This will form the foundation of our analysis and modeling."
   ]
  },
  {
   "cell_type": "code",
   "execution_count": 2,
   "id": "b576f903",
   "metadata": {
    "execution": {
     "iopub.execute_input": "2025-07-27T18:07:48.905880Z",
     "iopub.status.busy": "2025-07-27T18:07:48.905380Z",
     "iopub.status.idle": "2025-07-27T18:07:51.561508Z",
     "shell.execute_reply": "2025-07-27T18:07:51.560467Z"
    },
    "papermill": {
     "duration": 2.665423,
     "end_time": "2025-07-27T18:07:51.562889",
     "exception": false,
     "start_time": "2025-07-27T18:07:48.897466",
     "status": "completed"
    },
    "tags": []
   },
   "outputs": [
    {
     "name": "stdout",
     "output_type": "stream",
     "text": [
      "Loading train and test data...\n",
      "Data loaded successfully.\n"
     ]
    }
   ],
   "source": [
    "# Load the core datasets for the project.\n",
    "print(\"Loading train and test data...\")\n",
    "df_train = pd.read_csv(\"/kaggle/input/engage-2-value-from-clicks-to-conversions/train_data.csv\")\n",
    "df_test  = pd.read_csv(\"/kaggle/input/engage-2-value-from-clicks-to-conversions/test_data.csv\")\n",
    "print(\"Data loaded successfully.\")"
   ]
  },
  {
   "cell_type": "markdown",
   "id": "1fb28707",
   "metadata": {
    "papermill": {
     "duration": 0.006569,
     "end_time": "2025-07-27T18:07:51.576219",
     "exception": false,
     "start_time": "2025-07-27T18:07:51.569650",
     "status": "completed"
    },
    "tags": []
   },
   "source": [
    "# **2. Comprehensive Exploratory Data Analysis (EDA)**\n",
    "\n",
    "\n",
    "Before we begin cleaning and modeling, it's crucial to understand the data's structure, distributions, and relationships. This section explores key aspects of the dataset to inform our feature engineering and modeling choices."
   ]
  },
  {
   "cell_type": "markdown",
   "id": "0111522f",
   "metadata": {
    "papermill": {
     "duration": 0.006298,
     "end_time": "2025-07-27T18:07:51.589212",
     "exception": false,
     "start_time": "2025-07-27T18:07:51.582914",
     "status": "completed"
    },
    "tags": []
   },
   "source": [
    "# 2.1. Initial Data Overview\n",
    "\n",
    "Let's start by getting a high-level overview of the training data. The .info() method will show us the data types and non-null counts, while .head() gives us a glimpse of the first few rows."
   ]
  },
  {
   "cell_type": "code",
   "execution_count": 3,
   "id": "c3649ee2",
   "metadata": {
    "execution": {
     "iopub.execute_input": "2025-07-27T18:07:51.603872Z",
     "iopub.status.busy": "2025-07-27T18:07:51.603256Z",
     "iopub.status.idle": "2025-07-27T18:07:51.861003Z",
     "shell.execute_reply": "2025-07-27T18:07:51.860048Z"
    },
    "papermill": {
     "duration": 0.266553,
     "end_time": "2025-07-27T18:07:51.862322",
     "exception": false,
     "start_time": "2025-07-27T18:07:51.595769",
     "status": "completed"
    },
    "tags": []
   },
   "outputs": [
    {
     "name": "stdout",
     "output_type": "stream",
     "text": [
      "First 5 Rows of the Training Data:\n"
     ]
    },
    {
     "name": "stderr",
     "output_type": "stream",
     "text": [
      "/usr/local/lib/python3.11/dist-packages/pandas/io/formats/format.py:1458: RuntimeWarning: invalid value encountered in greater\n",
      "  has_large_values = (abs_vals > 1e6).any()\n",
      "/usr/local/lib/python3.11/dist-packages/pandas/io/formats/format.py:1459: RuntimeWarning: invalid value encountered in less\n",
      "  has_small_values = ((abs_vals < 10 ** (-self.digits)) & (abs_vals > 0)).any()\n",
      "/usr/local/lib/python3.11/dist-packages/pandas/io/formats/format.py:1459: RuntimeWarning: invalid value encountered in greater\n",
      "  has_small_values = ((abs_vals < 10 ** (-self.digits)) & (abs_vals > 0)).any()\n",
      "/usr/local/lib/python3.11/dist-packages/pandas/io/formats/format.py:1458: RuntimeWarning: invalid value encountered in greater\n",
      "  has_large_values = (abs_vals > 1e6).any()\n",
      "/usr/local/lib/python3.11/dist-packages/pandas/io/formats/format.py:1459: RuntimeWarning: invalid value encountered in less\n",
      "  has_small_values = ((abs_vals < 10 ** (-self.digits)) & (abs_vals > 0)).any()\n",
      "/usr/local/lib/python3.11/dist-packages/pandas/io/formats/format.py:1459: RuntimeWarning: invalid value encountered in greater\n",
      "  has_small_values = ((abs_vals < 10 ** (-self.digits)) & (abs_vals > 0)).any()\n"
     ]
    },
    {
     "data": {
      "text/html": [
       "<div>\n",
       "<style scoped>\n",
       "    .dataframe tbody tr th:only-of-type {\n",
       "        vertical-align: middle;\n",
       "    }\n",
       "\n",
       "    .dataframe tbody tr th {\n",
       "        vertical-align: top;\n",
       "    }\n",
       "\n",
       "    .dataframe thead th {\n",
       "        text-align: right;\n",
       "    }\n",
       "</style>\n",
       "<table border=\"1\" class=\"dataframe\">\n",
       "  <thead>\n",
       "    <tr style=\"text-align: right;\">\n",
       "      <th></th>\n",
       "      <th>trafficSource.isTrueDirect</th>\n",
       "      <th>purchaseValue</th>\n",
       "      <th>browser</th>\n",
       "      <th>device.screenResolution</th>\n",
       "      <th>trafficSource.adContent</th>\n",
       "      <th>trafficSource.keyword</th>\n",
       "      <th>screenSize</th>\n",
       "      <th>geoCluster</th>\n",
       "      <th>trafficSource.adwordsClickInfo.slot</th>\n",
       "      <th>device.mobileDeviceBranding</th>\n",
       "      <th>...</th>\n",
       "      <th>device.language</th>\n",
       "      <th>deviceType</th>\n",
       "      <th>userChannel</th>\n",
       "      <th>device.browserVersion</th>\n",
       "      <th>totalHits</th>\n",
       "      <th>device.screenColors</th>\n",
       "      <th>sessionStart</th>\n",
       "      <th>geoNetwork.continent</th>\n",
       "      <th>device.isMobile</th>\n",
       "      <th>new_visits</th>\n",
       "    </tr>\n",
       "  </thead>\n",
       "  <tbody>\n",
       "    <tr>\n",
       "      <th>0</th>\n",
       "      <td>NaN</td>\n",
       "      <td>0.0</td>\n",
       "      <td>Edge</td>\n",
       "      <td>not available in demo dataset</td>\n",
       "      <td>NaN</td>\n",
       "      <td>NaN</td>\n",
       "      <td>medium</td>\n",
       "      <td>Region_2</td>\n",
       "      <td>NaN</td>\n",
       "      <td>not available in demo dataset</td>\n",
       "      <td>...</td>\n",
       "      <td>not available in demo dataset</td>\n",
       "      <td>desktop</td>\n",
       "      <td>Social</td>\n",
       "      <td>not available in demo dataset</td>\n",
       "      <td>1</td>\n",
       "      <td>not available in demo dataset</td>\n",
       "      <td>1500100799</td>\n",
       "      <td>Americas</td>\n",
       "      <td>False</td>\n",
       "      <td>1.0</td>\n",
       "    </tr>\n",
       "    <tr>\n",
       "      <th>1</th>\n",
       "      <td>True</td>\n",
       "      <td>0.0</td>\n",
       "      <td>Chrome</td>\n",
       "      <td>not available in demo dataset</td>\n",
       "      <td>NaN</td>\n",
       "      <td>NaN</td>\n",
       "      <td>medium</td>\n",
       "      <td>Region_3</td>\n",
       "      <td>NaN</td>\n",
       "      <td>not available in demo dataset</td>\n",
       "      <td>...</td>\n",
       "      <td>not available in demo dataset</td>\n",
       "      <td>desktop</td>\n",
       "      <td>Direct</td>\n",
       "      <td>not available in demo dataset</td>\n",
       "      <td>1</td>\n",
       "      <td>not available in demo dataset</td>\n",
       "      <td>1495262065</td>\n",
       "      <td>Americas</td>\n",
       "      <td>False</td>\n",
       "      <td>1.0</td>\n",
       "    </tr>\n",
       "    <tr>\n",
       "      <th>2</th>\n",
       "      <td>True</td>\n",
       "      <td>0.0</td>\n",
       "      <td>Chrome</td>\n",
       "      <td>not available in demo dataset</td>\n",
       "      <td>NaN</td>\n",
       "      <td>(not provided)</td>\n",
       "      <td>medium</td>\n",
       "      <td>Region_2</td>\n",
       "      <td>NaN</td>\n",
       "      <td>not available in demo dataset</td>\n",
       "      <td>...</td>\n",
       "      <td>not available in demo dataset</td>\n",
       "      <td>desktop</td>\n",
       "      <td>Organic Search</td>\n",
       "      <td>not available in demo dataset</td>\n",
       "      <td>6</td>\n",
       "      <td>not available in demo dataset</td>\n",
       "      <td>1508510328</td>\n",
       "      <td>Europe</td>\n",
       "      <td>False</td>\n",
       "      <td>NaN</td>\n",
       "    </tr>\n",
       "    <tr>\n",
       "      <th>3</th>\n",
       "      <td>NaN</td>\n",
       "      <td>0.0</td>\n",
       "      <td>Internet Explorer</td>\n",
       "      <td>not available in demo dataset</td>\n",
       "      <td>NaN</td>\n",
       "      <td>NaN</td>\n",
       "      <td>medium</td>\n",
       "      <td>Region_4</td>\n",
       "      <td>NaN</td>\n",
       "      <td>not available in demo dataset</td>\n",
       "      <td>...</td>\n",
       "      <td>not available in demo dataset</td>\n",
       "      <td>desktop</td>\n",
       "      <td>Social</td>\n",
       "      <td>not available in demo dataset</td>\n",
       "      <td>1</td>\n",
       "      <td>not available in demo dataset</td>\n",
       "      <td>1483431838</td>\n",
       "      <td>Asia</td>\n",
       "      <td>False</td>\n",
       "      <td>1.0</td>\n",
       "    </tr>\n",
       "    <tr>\n",
       "      <th>4</th>\n",
       "      <td>True</td>\n",
       "      <td>88950000.0</td>\n",
       "      <td>Chrome</td>\n",
       "      <td>not available in demo dataset</td>\n",
       "      <td>NaN</td>\n",
       "      <td>NaN</td>\n",
       "      <td>medium</td>\n",
       "      <td>Region_3</td>\n",
       "      <td>NaN</td>\n",
       "      <td>not available in demo dataset</td>\n",
       "      <td>...</td>\n",
       "      <td>not available in demo dataset</td>\n",
       "      <td>desktop</td>\n",
       "      <td>Direct</td>\n",
       "      <td>not available in demo dataset</td>\n",
       "      <td>66</td>\n",
       "      <td>not available in demo dataset</td>\n",
       "      <td>1475804633</td>\n",
       "      <td>Americas</td>\n",
       "      <td>False</td>\n",
       "      <td>1.0</td>\n",
       "    </tr>\n",
       "  </tbody>\n",
       "</table>\n",
       "<p>5 rows × 52 columns</p>\n",
       "</div>"
      ],
      "text/plain": [
       "  trafficSource.isTrueDirect  purchaseValue            browser  \\\n",
       "0                        NaN            0.0               Edge   \n",
       "1                       True            0.0             Chrome   \n",
       "2                       True            0.0             Chrome   \n",
       "3                        NaN            0.0  Internet Explorer   \n",
       "4                       True     88950000.0             Chrome   \n",
       "\n",
       "         device.screenResolution trafficSource.adContent  \\\n",
       "0  not available in demo dataset                     NaN   \n",
       "1  not available in demo dataset                     NaN   \n",
       "2  not available in demo dataset                     NaN   \n",
       "3  not available in demo dataset                     NaN   \n",
       "4  not available in demo dataset                     NaN   \n",
       "\n",
       "  trafficSource.keyword screenSize geoCluster  \\\n",
       "0                   NaN     medium   Region_2   \n",
       "1                   NaN     medium   Region_3   \n",
       "2        (not provided)     medium   Region_2   \n",
       "3                   NaN     medium   Region_4   \n",
       "4                   NaN     medium   Region_3   \n",
       "\n",
       "  trafficSource.adwordsClickInfo.slot    device.mobileDeviceBranding  ...  \\\n",
       "0                                 NaN  not available in demo dataset  ...   \n",
       "1                                 NaN  not available in demo dataset  ...   \n",
       "2                                 NaN  not available in demo dataset  ...   \n",
       "3                                 NaN  not available in demo dataset  ...   \n",
       "4                                 NaN  not available in demo dataset  ...   \n",
       "\n",
       "                 device.language  deviceType     userChannel  \\\n",
       "0  not available in demo dataset     desktop          Social   \n",
       "1  not available in demo dataset     desktop          Direct   \n",
       "2  not available in demo dataset     desktop  Organic Search   \n",
       "3  not available in demo dataset     desktop          Social   \n",
       "4  not available in demo dataset     desktop          Direct   \n",
       "\n",
       "           device.browserVersion totalHits            device.screenColors  \\\n",
       "0  not available in demo dataset         1  not available in demo dataset   \n",
       "1  not available in demo dataset         1  not available in demo dataset   \n",
       "2  not available in demo dataset         6  not available in demo dataset   \n",
       "3  not available in demo dataset         1  not available in demo dataset   \n",
       "4  not available in demo dataset        66  not available in demo dataset   \n",
       "\n",
       "  sessionStart  geoNetwork.continent device.isMobile new_visits  \n",
       "0   1500100799              Americas           False        1.0  \n",
       "1   1495262065              Americas           False        1.0  \n",
       "2   1508510328                Europe           False        NaN  \n",
       "3   1483431838                  Asia           False        1.0  \n",
       "4   1475804633              Americas           False        1.0  \n",
       "\n",
       "[5 rows x 52 columns]"
      ]
     },
     "metadata": {},
     "output_type": "display_data"
    },
    {
     "name": "stdout",
     "output_type": "stream",
     "text": [
      "\n",
      "\n",
      "Training Data Info (Data Types and Non-Nulls):\n",
      "<class 'pandas.core.frame.DataFrame'>\n",
      "RangeIndex: 116023 entries, 0 to 116022\n",
      "Data columns (total 52 columns):\n",
      " #   Column                                        Non-Null Count   Dtype  \n",
      "---  ------                                        --------------   -----  \n",
      " 0   trafficSource.isTrueDirect                    42890 non-null   object \n",
      " 1   purchaseValue                                 116023 non-null  float64\n",
      " 2   browser                                       116023 non-null  object \n",
      " 3   device.screenResolution                       116023 non-null  object \n",
      " 4   trafficSource.adContent                       2963 non-null    object \n",
      " 5   trafficSource.keyword                         44162 non-null   object \n",
      " 6   screenSize                                    116023 non-null  object \n",
      " 7   geoCluster                                    116023 non-null  object \n",
      " 8   trafficSource.adwordsClickInfo.slot           4281 non-null    object \n",
      " 9   device.mobileDeviceBranding                   116023 non-null  object \n",
      " 10  device.mobileInputSelector                    116023 non-null  object \n",
      " 11  userId                                        116023 non-null  int64  \n",
      " 12  trafficSource.campaign                        116023 non-null  object \n",
      " 13  device.mobileDeviceMarketingName              116023 non-null  object \n",
      " 14  geoNetwork.networkDomain                      116023 non-null  object \n",
      " 15  gclIdPresent                                  116023 non-null  int64  \n",
      " 16  device.operatingSystemVersion                 116023 non-null  object \n",
      " 17  sessionNumber                                 116023 non-null  int64  \n",
      " 18  device.flashVersion                           116023 non-null  object \n",
      " 19  geoNetwork.region                             116023 non-null  object \n",
      " 20  trafficSource                                 116023 non-null  object \n",
      " 21  totals.visits                                 116023 non-null  int64  \n",
      " 22  geoNetwork.networkLocation                    116023 non-null  object \n",
      " 23  sessionId                                     116023 non-null  int64  \n",
      " 24  os                                            116023 non-null  object \n",
      " 25  geoNetwork.subContinent                       116023 non-null  object \n",
      " 26  trafficSource.medium                          116023 non-null  object \n",
      " 27  trafficSource.adwordsClickInfo.isVideoAd      4281 non-null    object \n",
      " 28  browserMajor                                  116023 non-null  object \n",
      " 29  locationCountry                               116023 non-null  object \n",
      " 30  device.browserSize                            116023 non-null  object \n",
      " 31  trafficSource.adwordsClickInfo.adNetworkType  4281 non-null    object \n",
      " 32  socialEngagementType                          116023 non-null  object \n",
      " 33  geoNetwork.city                               116023 non-null  object \n",
      " 34  trafficSource.adwordsClickInfo.page           4281 non-null    float64\n",
      " 35  geoNetwork.metro                              116023 non-null  object \n",
      " 36  pageViews                                     116015 non-null  float64\n",
      " 37  locationZone                                  116023 non-null  int64  \n",
      " 38  device.mobileDeviceModel                      116023 non-null  object \n",
      " 39  trafficSource.referralPath                    42714 non-null   object \n",
      " 40  totals.bounces                                47148 non-null   float64\n",
      " 41  date                                          116023 non-null  int64  \n",
      " 42  device.language                               116023 non-null  object \n",
      " 43  deviceType                                    116023 non-null  object \n",
      " 44  userChannel                                   116023 non-null  object \n",
      " 45  device.browserVersion                         116023 non-null  object \n",
      " 46  totalHits                                     116023 non-null  int64  \n",
      " 47  device.screenColors                           116023 non-null  object \n",
      " 48  sessionStart                                  116023 non-null  int64  \n",
      " 49  geoNetwork.continent                          116023 non-null  object \n",
      " 50  device.isMobile                               116023 non-null  bool   \n",
      " 51  new_visits                                    80518 non-null   float64\n",
      "dtypes: bool(1), float64(5), int64(9), object(37)\n",
      "memory usage: 45.3+ MB\n"
     ]
    }
   ],
   "source": [
    "print(\"First 5 Rows of the Training Data:\")\n",
    "display(df_train.head())\n",
    "\n",
    "print(\"\\n\\nTraining Data Info (Data Types and Non-Nulls):\")\n",
    "df_train.info()"
   ]
  },
  {
   "cell_type": "markdown",
   "id": "eddd64bb",
   "metadata": {
    "papermill": {
     "duration": 0.007047,
     "end_time": "2025-07-27T18:07:51.876809",
     "exception": false,
     "start_time": "2025-07-27T18:07:51.869762",
     "status": "completed"
    },
    "tags": []
   },
   "source": [
    "# 2.2. Target Variable: purchaseValue\n",
    "\n",
    "Understanding the target variable is the most important part of any regression task. Many sessions do not result in a purchase, leading to a purchaseValue of NaN or 0. We'll analyze the distribution of sessions that did result in a purchase."
   ]
  },
  {
   "cell_type": "code",
   "execution_count": 4,
   "id": "638ee6aa",
   "metadata": {
    "execution": {
     "iopub.execute_input": "2025-07-27T18:07:51.892556Z",
     "iopub.status.busy": "2025-07-27T18:07:51.892246Z",
     "iopub.status.idle": "2025-07-27T18:07:52.558178Z",
     "shell.execute_reply": "2025-07-27T18:07:52.557341Z"
    },
    "papermill": {
     "duration": 0.675706,
     "end_time": "2025-07-27T18:07:52.559734",
     "exception": false,
     "start_time": "2025-07-27T18:07:51.884028",
     "status": "completed"
    },
    "tags": []
   },
   "outputs": [
    {
     "name": "stdout",
     "output_type": "stream",
     "text": [
      "Percentage of sessions with a purchase: 20.67%\n"
     ]
    },
    {
     "name": "stderr",
     "output_type": "stream",
     "text": [
      "/tmp/ipykernel_13/93777905.py:3: FutureWarning: A value is trying to be set on a copy of a DataFrame or Series through chained assignment using an inplace method.\n",
      "The behavior will change in pandas 3.0. This inplace method will never work because the intermediate object on which we are setting values always behaves as a copy.\n",
      "\n",
      "For example, when doing 'df[col].method(value, inplace=True)', try using 'df.method({col: value}, inplace=True)' or df[col] = df[col].method(value) instead, to perform the operation inplace on the original object.\n",
      "\n",
      "\n",
      "  eda_df['purchaseValue'].fillna(0, inplace=True)\n",
      "/usr/local/lib/python3.11/dist-packages/seaborn/_oldcore.py:1119: FutureWarning: use_inf_as_na option is deprecated and will be removed in a future version. Convert inf values to NaN before operating instead.\n",
      "  with pd.option_context('mode.use_inf_as_na', True):\n"
     ]
    },
    {
     "data": {
      "image/png": "[encoded data removed]",
      "text/plain": [
       "<Figure size 1200x700 with 1 Axes>"
      ]
     },
     "metadata": {},
     "output_type": "display_data"
    }
   ],
   "source": [
    "# Create a copy and fill NaNs to analyze the target variable\n",
    "eda_df = df_train.copy()\n",
    "eda_df['purchaseValue'].fillna(0, inplace=True)\n",
    "\n",
    "# Calculate the percentage of sessions with a purchase\n",
    "purchase_sessions_percentage = (eda_df['purchaseValue'] > 0).mean() * 100\n",
    "\n",
    "print(f\"Percentage of sessions with a purchase: {purchase_sessions_percentage:.2f}%\")\n",
    "\n",
    "# Plot the distribution of non-zero purchase values on a log scale for better visibility\n",
    "plt.figure()\n",
    "sns.histplot(np.log1p(eda_df[eda_df['purchaseValue'] > 0]['purchaseValue']),\n",
    "             bins=40,\n",
    "             kde=True,\n",
    "             color='skyblue')\n",
    "plt.title('Distribution of Log-Transformed Purchase Value for Converting Sessions', fontsize=16)\n",
    "plt.xlabel('Log(1 + Purchase Value)')\n",
    "plt.ylabel('Frequency')\n",
    "plt.show()"
   ]
  },
  {
   "cell_type": "markdown",
   "id": "379f8f59",
   "metadata": {
    "papermill": {
     "duration": 0.008341,
     "end_time": "2025-07-27T18:07:52.577162",
     "exception": false,
     "start_time": "2025-07-27T18:07:52.568821",
     "status": "completed"
    },
    "tags": []
   },
   "source": [
    "This confirms that only a small fraction of sessions lead to a purchase, and the log-transformation reveals a more normalized distribution of purchase amounts, which is beneficial for many model types.\n",
    "\n"
   ]
  },
  {
   "cell_type": "markdown",
   "id": "dd15037e",
   "metadata": {
    "papermill": {
     "duration": 0.008375,
     "end_time": "2025-07-27T18:07:52.594111",
     "exception": false,
     "start_time": "2025-07-27T18:07:52.585736",
     "status": "completed"
    },
    "tags": []
   },
   "source": [
    "# 2.3. Device Usage Analysis\n",
    "\n",
    "What devices are customers using? This can influence user behavior and purchase likelihood. Let's examine the breakdown of sessions by device type (Desktop, Mobile, and Tablet)."
   ]
  },
  {
   "cell_type": "code",
   "execution_count": 5,
   "id": "7aed569e",
   "metadata": {
    "execution": {
     "iopub.execute_input": "2025-07-27T18:07:52.612271Z",
     "iopub.status.busy": "2025-07-27T18:07:52.611958Z",
     "iopub.status.idle": "2025-07-27T18:07:52.864321Z",
     "shell.execute_reply": "2025-07-27T18:07:52.863475Z"
    },
    "papermill": {
     "duration": 0.263351,
     "end_time": "2025-07-27T18:07:52.865925",
     "exception": false,
     "start_time": "2025-07-27T18:07:52.602574",
     "status": "completed"
    },
    "tags": []
   },
   "outputs": [
    {
     "data": {
      "image/png": "[encoded data removed]",
      "text/plain": [
       "<Figure size 1200x700 with 1 Axes>"
      ]
     },
     "metadata": {},
     "output_type": "display_data"
    },
    {
     "name": "stdout",
     "output_type": "stream",
     "text": [
      "Device Type Counts:\n",
      "deviceType\n",
      "desktop    86480\n",
      "mobile     25850\n",
      "tablet      3693\n",
      "Name: count, dtype: int64\n"
     ]
    }
   ],
   "source": [
    "# Plot device type distribution\n",
    "plt.figure()\n",
    "sns.countplot(y='deviceType', data=eda_df, order=eda_df['deviceType'].value_counts().index, palette='magma')\n",
    "plt.title('Session Count by Device Type', fontsize=16)\n",
    "plt.xlabel('Number of Sessions')\n",
    "plt.ylabel('Device Type')\n",
    "plt.show()\n",
    "\n",
    "# Display the exact counts\n",
    "print(\"Device Type Counts:\")\n",
    "print(eda_df['deviceType'].value_counts())"
   ]
  },
  {
   "cell_type": "markdown",
   "id": "bb069e3a",
   "metadata": {
    "papermill": {
     "duration": 0.00929,
     "end_time": "2025-07-27T18:07:52.884589",
     "exception": false,
     "start_time": "2025-07-27T18:07:52.875299",
     "status": "completed"
    },
    "tags": []
   },
   "source": [
    "As expected, Desktop is the dominant device type, followed by Mobile. This is a key feature to retain."
   ]
  },
  {
   "cell_type": "markdown",
   "id": "12a25fa8",
   "metadata": {
    "papermill": {
     "duration": 0.009016,
     "end_time": "2025-07-27T18:07:52.903048",
     "exception": false,
     "start_time": "2025-07-27T18:07:52.894032",
     "status": "completed"
    },
    "tags": []
   },
   "source": [
    "# 2.4. Traffic Source Channels\n",
    "\n",
    "How do users find the site? The userChannel tells us the marketing channel that brought the user to the session. Let's see which channels are most effective at driving both traffic and revenue."
   ]
  },
  {
   "cell_type": "code",
   "execution_count": 6,
   "id": "8a56a74e",
   "metadata": {
    "execution": {
     "iopub.execute_input": "2025-07-27T18:07:52.923103Z",
     "iopub.status.busy": "2025-07-27T18:07:52.922802Z",
     "iopub.status.idle": "2025-07-27T18:07:53.203950Z",
     "shell.execute_reply": "2025-07-27T18:07:53.202946Z"
    },
    "papermill": {
     "duration": 0.292851,
     "end_time": "2025-07-27T18:07:53.205309",
     "exception": false,
     "start_time": "2025-07-27T18:07:52.912458",
     "status": "completed"
    },
    "tags": []
   },
   "outputs": [
    {
     "data": {
      "image/png": "[encoded data removed]",
      "text/plain": [
       "<Figure size 1200x700 with 1 Axes>"
      ]
     },
     "metadata": {},
     "output_type": "display_data"
    },
    {
     "name": "stdout",
     "output_type": "stream",
     "text": [
      "Average Purchase Value per User Channel:\n",
      "userChannel\n",
      "Display           7.514455e+07\n",
      "Referral          5.917188e+07\n",
      "Direct            4.332910e+07\n",
      "Paid Search       2.711639e+07\n",
      "Organic Search    1.469966e+07\n",
      "(Other)           1.998000e+06\n",
      "Affiliates        6.340180e+05\n",
      "Social            4.696204e+05\n",
      "Name: purchaseValue, dtype: float64\n"
     ]
    }
   ],
   "source": [
    "# Plot traffic source distribution\n",
    "plt.figure()\n",
    "sns.countplot(y='userChannel', data=eda_df, order=eda_df['userChannel'].value_counts().index, palette='viridis')\n",
    "plt.title('Session Count by User Channel', fontsize=16)\n",
    "plt.xlabel('Number of Sessions')\n",
    "plt.ylabel('User Channel')\n",
    "plt.show()\n",
    "\n",
    "# Calculate and display the average purchase value per channel\n",
    "avg_purchase_by_channel = eda_df.groupby('userChannel')['purchaseValue'].mean().sort_values(ascending=False)\n",
    "print(\"Average Purchase Value per User Channel:\")\n",
    "print(avg_purchase_by_channel)"
   ]
  },
  {
   "cell_type": "markdown",
   "id": "73f1a816",
   "metadata": {
    "papermill": {
     "duration": 0.009973,
     "end_time": "2025-07-27T18:07:53.226062",
     "exception": false,
     "start_time": "2025-07-27T18:07:53.216089",
     "status": "completed"
    },
    "tags": []
   },
   "source": [
    "While Organic Search brings in the most traffic, the Referral channel has a significantly higher average purchase value, making it a very valuable source of converting customers."
   ]
  },
  {
   "cell_type": "markdown",
   "id": "fa5f6ced",
   "metadata": {
    "papermill": {
     "duration": 0.009881,
     "end_time": "2025-07-27T18:07:53.246276",
     "exception": false,
     "start_time": "2025-07-27T18:07:53.236395",
     "status": "completed"
    },
    "tags": []
   },
   "source": [
    "# 2.5. Geographical Insights\n",
    "\n",
    "Where are the users located? We can analyze the geographical distribution by looking at the top continents contributing to the sessions."
   ]
  },
  {
   "cell_type": "code",
   "execution_count": 7,
   "id": "7d349f81",
   "metadata": {
    "execution": {
     "iopub.execute_input": "2025-07-27T18:07:53.330571Z",
     "iopub.status.busy": "2025-07-27T18:07:53.330252Z",
     "iopub.status.idle": "2025-07-27T18:07:53.600186Z",
     "shell.execute_reply": "2025-07-27T18:07:53.599371Z"
    },
    "papermill": {
     "duration": 0.282519,
     "end_time": "2025-07-27T18:07:53.601497",
     "exception": false,
     "start_time": "2025-07-27T18:07:53.318978",
     "status": "completed"
    },
    "tags": []
   },
   "outputs": [
    {
     "data": {
      "image/png": "[encoded data removed]",
      "text/plain": [
       "<Figure size 1200x700 with 1 Axes>"
      ]
     },
     "metadata": {},
     "output_type": "display_data"
    }
   ],
   "source": [
    "# Plot top continents by session count\n",
    "plt.figure()\n",
    "sns.countplot(y='geoNetwork.continent', data=eda_df, order=eda_df['geoNetwork.continent'].value_counts().nlargest(5).index, palette='plasma')\n",
    "plt.title('Top 5 Continents by Session Count', fontsize=16)\n",
    "plt.xlabel('Number of Sessions')\n",
    "plt.ylabel('Continent')\n",
    "plt.show()"
   ]
  },
  {
   "cell_type": "markdown",
   "id": "2e0f8ee5",
   "metadata": {
    "papermill": {
     "duration": 0.010879,
     "end_time": "2025-07-27T18:07:53.623836",
     "exception": false,
     "start_time": "2025-07-27T18:07:53.612957",
     "status": "completed"
    },
    "tags": []
   },
   "source": [
    "The Americas and Asia are the largest sources of traffic, with Europe also being a significant contributor."
   ]
  },
  {
   "cell_type": "markdown",
   "id": "3400045c",
   "metadata": {
    "papermill": {
     "duration": 0.011013,
     "end_time": "2025-07-27T18:07:53.645986",
     "exception": false,
     "start_time": "2025-07-27T18:07:53.634973",
     "status": "completed"
    },
    "tags": []
   },
   "source": [
    "# 2.6. Numerical Feature Correlation\n",
    "\n",
    "Finally, let's examine the relationships between the key numerical features in our dataset. A correlation heatmap helps us identify multicollinearity, where two or more variables are highly correlated, potentially providing redundant information."
   ]
  },
  {
   "cell_type": "code",
   "execution_count": 8,
   "id": "f24c58dc",
   "metadata": {
    "execution": {
     "iopub.execute_input": "2025-07-27T18:07:53.669530Z",
     "iopub.status.busy": "2025-07-27T18:07:53.669200Z",
     "iopub.status.idle": "2025-07-27T18:07:53.919840Z",
     "shell.execute_reply": "2025-07-27T18:07:53.919007Z"
    },
    "papermill": {
     "duration": 0.264044,
     "end_time": "2025-07-27T18:07:53.921240",
     "exception": false,
     "start_time": "2025-07-27T18:07:53.657196",
     "status": "completed"
    },
    "tags": []
   },
   "outputs": [
    {
     "data": {
      "image/png": "[encoded data removed]",
      "text/plain": [
       "<Figure size 1200x700 with 2 Axes>"
      ]
     },
     "metadata": {},
     "output_type": "display_data"
    }
   ],
   "source": [
    "# Select key numerical columns for correlation analysis\n",
    "numerical_features = ['totalHits', 'pageViews', 'sessionNumber']\n",
    "corr_matrix = eda_df[numerical_features].corr()\n",
    "\n",
    "# Plot the heatmap\n",
    "plt.figure()\n",
    "sns.heatmap(corr_matrix, annot=True, cmap='coolwarm', fmt='.2f', linewidths=.5)\n",
    "plt.title('Correlation Matrix of Key Numerical Features', fontsize=16)\n",
    "plt.show()"
   ]
  },
  {
   "cell_type": "markdown",
   "id": "224e7787",
   "metadata": {
    "papermill": {
     "duration": 0.012276,
     "end_time": "2025-07-27T18:07:53.945721",
     "exception": false,
     "start_time": "2025-07-27T18:07:53.933445",
     "status": "completed"
    },
    "tags": []
   },
   "source": [
    "The heatmap shows an extremely high correlation of 0.97 between totalHits and pageViews. This is a strong indicator of multicollinearity. For many models, it's best to remove one of these features to avoid redundancy, which justifies this kind of cleaning step later in the process."
   ]
  },
  {
   "cell_type": "markdown",
   "id": "fe038fbb",
   "metadata": {
    "papermill": {
     "duration": 0.011768,
     "end_time": "2025-07-27T18:07:53.969798",
     "exception": false,
     "start_time": "2025-07-27T18:07:53.958030",
     "status": "completed"
    },
    "tags": []
   },
   "source": [
    "# **3. Data Cleaning and Preparation**"
   ]
  },
  {
   "cell_type": "markdown",
   "id": "ba483e75",
   "metadata": {
    "papermill": {
     "duration": 0.011719,
     "end_time": "2025-07-27T18:07:53.993633",
     "exception": false,
     "start_time": "2025-07-27T18:07:53.981914",
     "status": "completed"
    },
    "tags": []
   },
   "source": [
    "# 3.1. Removing Uninformative Columns\n",
    "\n",
    "Here, we define and apply a function to programmatically remove columns that are either mostly empty (more than 80% NaN) or contain only a single unique value. These columns offer no value to the model."
   ]
  },
  {
   "cell_type": "code",
   "execution_count": 9,
   "id": "33350836",
   "metadata": {
    "execution": {
     "iopub.execute_input": "2025-07-27T18:07:54.018857Z",
     "iopub.status.busy": "2025-07-27T18:07:54.018540Z",
     "iopub.status.idle": "2025-07-27T18:07:54.652717Z",
     "shell.execute_reply": "2025-07-27T18:07:54.651662Z"
    },
    "papermill": {
     "duration": 0.648515,
     "end_time": "2025-07-27T18:07:54.654378",
     "exception": false,
     "start_time": "2025-07-27T18:07:54.005863",
     "status": "completed"
    },
    "tags": []
   },
   "outputs": [
    {
     "name": "stdout",
     "output_type": "stream",
     "text": [
      "Cleaning data by removing uninformative columns...\n",
      "Uninformative columns removed.\n"
     ]
    }
   ],
   "source": [
    "# This function streamlines the removal of columns that do not contribute to the model.\n",
    "def remove_uninformative(df):\n",
    "    return df.drop(columns=[col for col in df.columns if df[col].isna().mean() > 0.8 or df[col].nunique() <= 1])\n",
    "\n",
    "print(\"Cleaning data by removing uninformative columns...\")\n",
    "df_train = remove_uninformative(df_train)\n",
    "df_test = remove_uninformative(df_test)\n",
    "print(\"Uninformative columns removed.\")"
   ]
  },
  {
   "cell_type": "markdown",
   "id": "a1543058",
   "metadata": {
    "papermill": {
     "duration": 0.01625,
     "end_time": "2025-07-27T18:07:54.685000",
     "exception": false,
     "start_time": "2025-07-27T18:07:54.668750",
     "status": "completed"
    },
    "tags": []
   },
   "source": [
    "# 3.2. Manual Feature Removal\n",
    "\n",
    "Based on our EDA and domain knowledge, we'll manually drop additional columns that are either identifiers (sessionId) or have been deemed too noisy or irrelevant for this modeling task."
   ]
  },
  {
   "cell_type": "code",
   "execution_count": 10,
   "id": "5112e1ca",
   "metadata": {
    "execution": {
     "iopub.execute_input": "2025-07-27T18:07:54.711000Z",
     "iopub.status.busy": "2025-07-27T18:07:54.710628Z",
     "iopub.status.idle": "2025-07-27T18:07:54.738529Z",
     "shell.execute_reply": "2025-07-27T18:07:54.737367Z"
    },
    "papermill": {
     "duration": 0.042651,
     "end_time": "2025-07-27T18:07:54.740051",
     "exception": false,
     "start_time": "2025-07-27T18:07:54.697400",
     "status": "completed"
    },
    "tags": []
   },
   "outputs": [
    {
     "name": "stdout",
     "output_type": "stream",
     "text": [
      "Manually selected features dropped.\n"
     ]
    }
   ],
   "source": [
    "# Manually dropping columns that are identifiers or have been found to be unhelpful.\n",
    "manual_drop = [\n",
    "    'geoNetwork.networkDomain', 'sessionId', 'os', 'geoNetwork.subContinent',\n",
    "    'locationCountry', 'geoNetwork.city', 'geoNetwork.metro', 'gclIdPresent' ,\n",
    "]\n",
    "df_train.drop(columns=manual_drop, errors='ignore', inplace=True)\n",
    "df_test.drop(columns=manual_drop, errors='ignore', inplace=True)\n",
    "print(\"Manually selected features dropped.\")"
   ]
  },
  {
   "cell_type": "markdown",
   "id": "ea940148",
   "metadata": {
    "papermill": {
     "duration": 0.011977,
     "end_time": "2025-07-27T18:07:54.764325",
     "exception": false,
     "start_time": "2025-07-27T18:07:54.752348",
     "status": "completed"
    },
    "tags": []
   },
   "source": [
    "# 3.3. Define Target and Features\n",
    "\n",
    "We now formally separate our dataset into the features (X) that we will use for prediction and the target variable (y) that we want to predict."
   ]
  },
  {
   "cell_type": "code",
   "execution_count": 11,
   "id": "428ea540",
   "metadata": {
    "execution": {
     "iopub.execute_input": "2025-07-27T18:07:54.790412Z",
     "iopub.status.busy": "2025-07-27T18:07:54.790084Z",
     "iopub.status.idle": "2025-07-27T18:07:54.803402Z",
     "shell.execute_reply": "2025-07-27T18:07:54.802398Z"
    },
    "papermill": {
     "duration": 0.028409,
     "end_time": "2025-07-27T18:07:54.804989",
     "exception": false,
     "start_time": "2025-07-27T18:07:54.776580",
     "status": "completed"
    },
    "tags": []
   },
   "outputs": [],
   "source": [
    "# Separating the dataset into features (X) and the target variable (y).\n",
    "y = df_train['purchaseValue']\n",
    "X = df_train.drop(columns=['purchaseValue'])"
   ]
  },
  {
   "cell_type": "markdown",
   "id": "eb67e81d",
   "metadata": {
    "papermill": {
     "duration": 0.012056,
     "end_time": "2025-07-27T18:07:54.829934",
     "exception": false,
     "start_time": "2025-07-27T18:07:54.817878",
     "status": "completed"
    },
    "tags": []
   },
   "source": [
    "# **4. Preprocessing and Feature Transformation**"
   ]
  },
  {
   "cell_type": "markdown",
   "id": "3668d578",
   "metadata": {
    "papermill": {
     "duration": 0.012229,
     "end_time": "2025-07-27T18:07:54.854286",
     "exception": false,
     "start_time": "2025-07-27T18:07:54.842057",
     "status": "completed"
    },
    "tags": []
   },
   "source": [
    "# 4.1. Identify Feature Types and Split Data\n",
    "\n",
    "We first identify which columns are numerical and which are categorical. Then, we split our data into training and validation sets to ensure we can reliably evaluate our models."
   ]
  },
  {
   "cell_type": "code",
   "execution_count": 12,
   "id": "91ef25d2",
   "metadata": {
    "execution": {
     "iopub.execute_input": "2025-07-27T18:07:54.880948Z",
     "iopub.status.busy": "2025-07-27T18:07:54.880190Z",
     "iopub.status.idle": "2025-07-27T18:07:54.933756Z",
     "shell.execute_reply": "2025-07-27T18:07:54.932783Z"
    },
    "papermill": {
     "duration": 0.068629,
     "end_time": "2025-07-27T18:07:54.935380",
     "exception": false,
     "start_time": "2025-07-27T18:07:54.866751",
     "status": "completed"
    },
    "tags": []
   },
   "outputs": [
    {
     "name": "stdout",
     "output_type": "stream",
     "text": [
      "Data split into 92818 training samples and 23205 validation samples.\n"
     ]
    }
   ],
   "source": [
    "# Segregating columns by their data type for specific preprocessing.\n",
    "num_cols = X.select_dtypes(include=['int64', 'float64']).columns.tolist()\n",
    "cat_cols = X.select_dtypes(include='object').columns.tolist()\n",
    "\n",
    "# Splitting the data to evaluate our models accurately.\n",
    "X_train, X_val, y_train, y_val = train_test_split(X, y, test_size=0.2, random_state=42)\n",
    "print(f\"Data split into {len(X_train)} training samples and {len(X_val)} validation samples.\")"
   ]
  },
  {
   "cell_type": "markdown",
   "id": "d3752270",
   "metadata": {
    "papermill": {
     "duration": 0.011983,
     "end_time": "2025-07-27T18:07:54.959994",
     "exception": false,
     "start_time": "2025-07-27T18:07:54.948011",
     "status": "completed"
    },
    "tags": []
   },
   "source": [
    "# 4.2. Process Numerical Features\n",
    "\n",
    "We'll process the numerical columns by first filling any missing values with the mean of the column and then scaling the data using StandardScaler to give them a uniform range."
   ]
  },
  {
   "cell_type": "code",
   "execution_count": 13,
   "id": "09eacfe1",
   "metadata": {
    "execution": {
     "iopub.execute_input": "2025-07-27T18:07:54.986647Z",
     "iopub.status.busy": "2025-07-27T18:07:54.985567Z",
     "iopub.status.idle": "2025-07-27T18:07:55.077470Z",
     "shell.execute_reply": "2025-07-27T18:07:55.076493Z"
    },
    "papermill": {
     "duration": 0.106745,
     "end_time": "2025-07-27T18:07:55.079067",
     "exception": false,
     "start_time": "2025-07-27T18:07:54.972322",
     "status": "completed"
    },
    "tags": []
   },
   "outputs": [
    {
     "name": "stdout",
     "output_type": "stream",
     "text": [
      "Preprocessing numerical features...\n"
     ]
    }
   ],
   "source": [
    "# Preprocessing numerical features.\n",
    "print(\"Preprocessing numerical features...\")\n",
    "num_imputer = SimpleImputer(strategy='mean')\n",
    "scaler = StandardScaler()\n",
    "\n",
    "X_train_num = scaler.fit_transform(num_imputer.fit_transform(X_train[num_cols]))\n",
    "X_val_num = scaler.transform(num_imputer.transform(X_val[num_cols]))\n",
    "X_all_num = scaler.transform(num_imputer.transform(X[num_cols]))\n",
    "test_num = scaler.transform(num_imputer.transform(df_test[num_cols]))"
   ]
  },
  {
   "cell_type": "markdown",
   "id": "53fc6953",
   "metadata": {
    "papermill": {
     "duration": 0.012013,
     "end_time": "2025-07-27T18:07:55.103921",
     "exception": false,
     "start_time": "2025-07-27T18:07:55.091908",
     "status": "completed"
    },
    "tags": []
   },
   "source": [
    "# 4.3. Process Categorical Features (Target Encoding)\n",
    "\n",
    "For categorical features, we first fill missing values with the most frequent category. Then we use Target Encoding, a powerful technique that encodes each category with a smoothed average of the target variable."
   ]
  },
  {
   "cell_type": "code",
   "execution_count": 14,
   "id": "1ceda246",
   "metadata": {
    "execution": {
     "iopub.execute_input": "2025-07-27T18:07:55.129690Z",
     "iopub.status.busy": "2025-07-27T18:07:55.129340Z",
     "iopub.status.idle": "2025-07-27T18:07:55.742523Z",
     "shell.execute_reply": "2025-07-27T18:07:55.741668Z"
    },
    "papermill": {
     "duration": 0.628035,
     "end_time": "2025-07-27T18:07:55.744123",
     "exception": false,
     "start_time": "2025-07-27T18:07:55.116088",
     "status": "completed"
    },
    "tags": []
   },
   "outputs": [
    {
     "name": "stdout",
     "output_type": "stream",
     "text": [
      "Encoding categorical features...\n"
     ]
    }
   ],
   "source": [
    "# Encoding categorical features using a target encoding strategy.\n",
    "print(\"Encoding categorical features...\")\n",
    "cat_imputer = SimpleImputer(strategy='most_frequent')\n",
    "\n",
    "def target_encode(train_col, val_col, full_col, test_col, target, smoothing=10):\n",
    "    global_mean = target.mean()\n",
    "    agg = train_col.to_frame().join(target)\n",
    "    means = agg.groupby(train_col.name)[target.name].mean()\n",
    "    counts = train_col.value_counts()\n",
    "    smooth = (counts * means + smoothing * global_mean) / (counts + smoothing)\n",
    "    return (\n",
    "        val_col.map(smooth).fillna(global_mean),\n",
    "        full_col.map(smooth).fillna(global_mean),\n",
    "        test_col.map(smooth).fillna(global_mean)\n",
    "    )\n",
    "\n",
    "X_train_cat = pd.DataFrame(cat_imputer.fit_transform(X_train[cat_cols]), columns=cat_cols)\n",
    "X_val_cat = pd.DataFrame(cat_imputer.transform(X_val[cat_cols]), columns=cat_cols)\n",
    "X_all_cat = pd.DataFrame(cat_imputer.transform(X[cat_cols]), columns=cat_cols)\n",
    "test_cat = pd.DataFrame(cat_imputer.transform(df_test[cat_cols]), columns=cat_cols)\n",
    "\n",
    "X_train_cat_enc, X_val_cat_enc, X_all_cat_enc, test_cat_enc = pd.DataFrame(), pd.DataFrame(), pd.DataFrame(), pd.DataFrame()\n",
    "for col in cat_cols:\n",
    "    val_enc, all_enc, test_enc = target_encode(\n",
    "    X_train_cat[col], X_val_cat[col], X_all_cat[col], test_cat[col], y_train\n",
    ")\n",
    "X_val_cat_enc[col] = val_enc\n",
    "X_all_cat_enc[col] = all_enc\n",
    "test_cat_enc[col] = test_enc"
   ]
  },
  {
   "cell_type": "markdown",
   "id": "06ce42ee",
   "metadata": {
    "papermill": {
     "duration": 0.01232,
     "end_time": "2025-07-27T18:07:55.769551",
     "exception": false,
     "start_time": "2025-07-27T18:07:55.757231",
     "status": "completed"
    },
    "tags": []
   },
   "source": [
    "# 4.4. Combine Final Features\n",
    "\n",
    "Finally, we merge the processed numerical and categorical features back into final datasets for training, validation, and testing."
   ]
  },
  {
   "cell_type": "code",
   "execution_count": 15,
   "id": "5c01f02e",
   "metadata": {
    "execution": {
     "iopub.execute_input": "2025-07-27T18:07:55.795862Z",
     "iopub.status.busy": "2025-07-27T18:07:55.795542Z",
     "iopub.status.idle": "2025-07-27T18:07:55.804395Z",
     "shell.execute_reply": "2025-07-27T18:07:55.803278Z"
    },
    "papermill": {
     "duration": 0.023488,
     "end_time": "2025-07-27T18:07:55.805767",
     "exception": false,
     "start_time": "2025-07-27T18:07:55.782279",
     "status": "completed"
    },
    "tags": []
   },
   "outputs": [
    {
     "name": "stdout",
     "output_type": "stream",
     "text": [
      "Preprocessing finished. Final feature sets are ready.\n"
     ]
    }
   ],
   "source": [
    "# Merging the processed numerical and categorical features back together.\n",
    "X_val_final   = np.hstack([X_val_num,   X_val_cat_enc.values])\n",
    "X_all_final   = np.hstack([X_all_num,   X_all_cat_enc.values])\n",
    "test_final    = np.hstack([test_num,    test_cat_enc.values])\n",
    "print(\"Preprocessing finished. Final feature sets are ready.\")"
   ]
  },
  {
   "cell_type": "markdown",
   "id": "b1de6986",
   "metadata": {
    "papermill": {
     "duration": 0.012243,
     "end_time": "2025-07-27T18:07:55.830791",
     "exception": false,
     "start_time": "2025-07-27T18:07:55.818548",
     "status": "completed"
    },
    "tags": []
   },
   "source": [
    "# **5. Model Development and Evaluation**"
   ]
  },
  {
   "cell_type": "markdown",
   "id": "78c35ca7",
   "metadata": {
    "papermill": {
     "duration": 0.012396,
     "end_time": "2025-07-27T18:07:55.855595",
     "exception": false,
     "start_time": "2025-07-27T18:07:55.843199",
     "status": "completed"
    },
    "tags": []
   },
   "source": [
    "# 5.1. Model 1: Random Forest\n",
    "\n",
    "Our first model is a RandomForestRegressor. It's an ensemble of decision trees, known for its robustness and high performance."
   ]
  },
  {
   "cell_type": "code",
   "execution_count": 16,
   "id": "117912e8",
   "metadata": {
    "execution": {
     "iopub.execute_input": "2025-07-27T18:07:55.881682Z",
     "iopub.status.busy": "2025-07-27T18:07:55.881031Z",
     "iopub.status.idle": "2025-07-27T18:09:04.183148Z",
     "shell.execute_reply": "2025-07-27T18:09:04.182304Z"
    },
    "papermill": {
     "duration": 68.316765,
     "end_time": "2025-07-27T18:09:04.184691",
     "exception": false,
     "start_time": "2025-07-27T18:07:55.867926",
     "status": "completed"
    },
    "tags": []
   },
   "outputs": [
    {
     "name": "stdout",
     "output_type": "stream",
     "text": [
      "\n",
      "Training: Random Forest\n",
      "Random Forest R² Score: 0.8702\n"
     ]
    }
   ],
   "source": [
    "# Training the Random Forest model.\n",
    "print(\"\\nTraining: Random Forest\")\n",
    "rf = RandomForestRegressor(\n",
    "    n_estimators=1200,\n",
    "    max_depth=30,\n",
    "    min_samples_split=3,\n",
    "    min_samples_leaf=1,\n",
    "    max_features='sqrt',\n",
    "    bootstrap=True,\n",
    "    random_state=42,\n",
    "    n_jobs=-1\n",
    ")\n",
    "rf.fit(X_all_final, y)\n",
    "rf_val_pred = rf.predict(X_val_final)\n",
    "rf_score = r2_score(y_val, rf_val_pred)\n",
    "print(f\"Random Forest R² Score: {rf_score:.4f}\")\n",
    "rf_test_pred = rf.predict(test_final)"
   ]
  },
  {
   "cell_type": "markdown",
   "id": "832815cf",
   "metadata": {
    "papermill": {
     "duration": 0.012261,
     "end_time": "2025-07-27T18:09:04.210022",
     "exception": false,
     "start_time": "2025-07-27T18:09:04.197761",
     "status": "completed"
    },
    "tags": []
   },
   "source": [
    "# 5.2. Model 2: XGBoost\n",
    "\n",
    "Next is XGBoost, a gradient boosting framework that is often a top performer in Kaggle competitions due to its speed and accuracy."
   ]
  },
  {
   "cell_type": "code",
   "execution_count": 17,
   "id": "859917de",
   "metadata": {
    "execution": {
     "iopub.execute_input": "2025-07-27T18:09:04.236422Z",
     "iopub.status.busy": "2025-07-27T18:09:04.236135Z",
     "iopub.status.idle": "2025-07-27T18:10:17.163318Z",
     "shell.execute_reply": "2025-07-27T18:10:17.162642Z"
    },
    "papermill": {
     "duration": 72.942485,
     "end_time": "2025-07-27T18:10:17.165148",
     "exception": false,
     "start_time": "2025-07-27T18:09:04.222663",
     "status": "completed"
    },
    "tags": []
   },
   "outputs": [
    {
     "name": "stdout",
     "output_type": "stream",
     "text": [
      "\n",
      "Training: XGBoost\n",
      "XGBoost R² Score: 1.0000\n"
     ]
    }
   ],
   "source": [
    "# Training the XGBoost model.\n",
    "print(\"\\nTraining: XGBoost\")\n",
    "xgb_model = xgb.XGBRegressor(\n",
    "    n_estimators=3000,\n",
    "    max_depth=12,\n",
    "    learning_rate=0.02,\n",
    "    subsample=0.9,\n",
    "    colsample_bytree=0.9,\n",
    "    min_child_weight=1,\n",
    "    reg_alpha=0.05,\n",
    "    reg_lambda=0.3,\n",
    "    random_state=42,\n",
    "    n_jobs=-1,\n",
    "    early_stopping_rounds=100,\n",
    "    eval_metric='rmse'\n",
    ")\n",
    "xgb_model.fit(X_all_final, y, eval_set=[(X_val_final, y_val)], verbose=False)\n",
    "xgb_val_pred = xgb_model.predict(X_val_final)\n",
    "xgb_score = r2_score(y_val, xgb_val_pred)\n",
    "print(f\"XGBoost R² Score: {xgb_score:.4f}\")\n",
    "xgb_test_pred = xgb_model.predict(test_final)"
   ]
  },
  {
   "cell_type": "markdown",
   "id": "74289752",
   "metadata": {
    "papermill": {
     "duration": 0.01265,
     "end_time": "2025-07-27T18:10:17.190893",
     "exception": false,
     "start_time": "2025-07-27T18:10:17.178243",
     "status": "completed"
    },
    "tags": []
   },
   "source": [
    "# 5.3. Model 3: Linear Regression\n",
    "\n",
    "Our third model is LinearRegression. While simpler, it serves as a great baseline to ensure our more complex models are adding significant value."
   ]
  },
  {
   "cell_type": "code",
   "execution_count": 18,
   "id": "249c628b",
   "metadata": {
    "execution": {
     "iopub.execute_input": "2025-07-27T18:10:17.217386Z",
     "iopub.status.busy": "2025-07-27T18:10:17.216775Z",
     "iopub.status.idle": "2025-07-27T18:10:17.290941Z",
     "shell.execute_reply": "2025-07-27T18:10:17.290100Z"
    },
    "papermill": {
     "duration": 0.089135,
     "end_time": "2025-07-27T18:10:17.292570",
     "exception": false,
     "start_time": "2025-07-27T18:10:17.203435",
     "status": "completed"
    },
    "tags": []
   },
   "outputs": [
    {
     "name": "stdout",
     "output_type": "stream",
     "text": [
      "\n",
      "Training: Linear Regression\n",
      "Linear Regression R² Score: 0.1287\n"
     ]
    }
   ],
   "source": [
    "# Training the Linear Regression model.\n",
    "print(\"\\nTraining: Linear Regression\")\n",
    "lr_model = LinearRegression()\n",
    "lr_model.fit(X_all_final, y)\n",
    "lr_val_pred = lr_model.predict(X_val_final)\n",
    "lr_score = r2_score(y_val, lr_val_pred)\n",
    "print(f\"Linear Regression R² Score: {lr_score:.4f}\")\n",
    "lr_test_pred = lr_model.predict(test_final)"
   ]
  },
  {
   "cell_type": "markdown",
   "id": "48bd4b71",
   "metadata": {
    "papermill": {
     "duration": 0.013453,
     "end_time": "2025-07-27T18:10:17.318821",
     "exception": false,
     "start_time": "2025-07-27T18:10:17.305368",
     "status": "completed"
    },
    "tags": []
   },
   "source": [
    "# **6. Ensemble and Final Submission**"
   ]
  },
  {
   "cell_type": "markdown",
   "id": "38b49902",
   "metadata": {
    "papermill": {
     "duration": 0.012692,
     "end_time": "2025-07-27T18:10:17.344830",
     "exception": false,
     "start_time": "2025-07-27T18:10:17.332138",
     "status": "completed"
    },
    "tags": []
   },
   "source": [
    "# 6.1. Select Best Model for Submission\n",
    "\n",
    "After evaluating all models, we need to decide which one to use for the final predictions. We will compare the R² scores of the Linear Regression, Random Forest, XGBoost, and the weighted ensemble. The approach with the highest score will be selected to generate the test predictions."
   ]
  },
  {
   "cell_type": "code",
   "execution_count": 19,
   "id": "15e06c9a",
   "metadata": {
    "execution": {
     "iopub.execute_input": "2025-07-27T18:10:17.371812Z",
     "iopub.status.busy": "2025-07-27T18:10:17.371442Z",
     "iopub.status.idle": "2025-07-27T18:10:17.381439Z",
     "shell.execute_reply": "2025-07-27T18:10:17.380470Z"
    },
    "papermill": {
     "duration": 0.025254,
     "end_time": "2025-07-27T18:10:17.383008",
     "exception": false,
     "start_time": "2025-07-27T18:10:17.357754",
     "status": "completed"
    },
    "tags": []
   },
   "outputs": [
    {
     "name": "stdout",
     "output_type": "stream",
     "text": [
      "\n",
      "🔀 Ensemble R² Score: 0.9721\n",
      "Chosen model for final submission: XGBoost\n"
     ]
    }
   ],
   "source": [
    "# ========== ENSEMBLE (Weighted: XGBoost dominant) ==========\n",
    "ensemble_val_pred = (\n",
    "    0.05 * lr_val_pred +     \n",
    "    0.35 * rf_val_pred +     \n",
    "    0.60 * xgb_val_pred      \n",
    ")\n",
    "ensemble_score = r2_score(y_val, ensemble_val_pred)\n",
    "print(f\"\\n🔀 Ensemble R² Score: {ensemble_score:.4f}\")\n",
    "\n",
    "\n",
    "# Choose best model or weighted ensemble\n",
    "if ensemble_score >= max(rf_score, xgb_score, lr_score):\n",
    "    final_preds = (\n",
    "        0.05 * lr_test_pred +\n",
    "        0.35 * rf_test_pred +\n",
    "        0.60 * xgb_test_pred\n",
    "    )\n",
    "    model_name = \"Weighted Ensemble (XGB-heavy)\"\n",
    "elif xgb_score >= max(rf_score, lr_score):\n",
    "    final_preds = xgb_test_pred\n",
    "    model_name = \"XGBoost\"\n",
    "elif rf_score >= lr_score:\n",
    "    final_preds = rf_test_pred\n",
    "    model_name = \"Random Forest\"\n",
    "else:\n",
    "    final_preds = lr_test_pred\n",
    "    model_name = \"Linear Regression\"\n",
    "\n",
    "print(f\"Chosen model for final submission: {model_name}\")"
   ]
  },
  {
   "cell_type": "markdown",
   "id": "623154c4",
   "metadata": {
    "papermill": {
     "duration": 0.012188,
     "end_time": "2025-07-27T18:10:17.412998",
     "exception": false,
     "start_time": "2025-07-27T18:10:17.400810",
     "status": "completed"
    },
    "tags": []
   },
   "source": [
    "# 6.2. Generate Final Submission File\n",
    "\n",
    "Now, using the predictions from our selected best model (final_preds), we will construct the final submission.csv file. The predictions are clipped at zero to ensure there are no negative purchase values, which are not possible."
   ]
  },
  {
   "cell_type": "code",
   "execution_count": 20,
   "id": "a7f18f1e",
   "metadata": {
    "execution": {
     "iopub.execute_input": "2025-07-27T18:10:17.439437Z",
     "iopub.status.busy": "2025-07-27T18:10:17.438912Z",
     "iopub.status.idle": "2025-07-27T18:10:17.492456Z",
     "shell.execute_reply": "2025-07-27T18:10:17.491481Z"
    },
    "papermill": {
     "duration": 0.068311,
     "end_time": "2025-07-27T18:10:17.493892",
     "exception": false,
     "start_time": "2025-07-27T18:10:17.425581",
     "status": "completed"
    },
    "tags": []
   },
   "outputs": [
    {
     "name": "stdout",
     "output_type": "stream",
     "text": [
      "\n",
      "Generating final submission file...\n",
      "Submission.csv saved successfully using the XGBoost model.\n",
      "\n",
      "Submission File Head:\n",
      "   id  purchaseValue\n",
      "0   0   3.175277e+07\n",
      "1   1   5.586593e+05\n",
      "2   2   0.000000e+00\n",
      "3   3   8.208640e+04\n",
      "4   4   0.000000e+00\n",
      "5   5   8.148358e+07\n",
      "6   6   3.296845e+08\n",
      "7   7   8.903883e+07\n",
      "8   8   0.000000e+00\n",
      "9   9   1.686028e+07\n"
     ]
    }
   ],
   "source": [
    "# ========== SUBMISSION FILE GENERATION ==========\n",
    "# Create the submission DataFrame in the required format.\n",
    "print(\"\\nGenerating final submission file...\")\n",
    "submission = pd.DataFrame({\n",
    "    \"id\": np.arange(len(final_preds)),\n",
    "    \"purchaseValue\": np.clip(final_preds, 0, None) # Ensure no negative predictions\n",
    "})\n",
    "\n",
    "# Save the DataFrame to a CSV file\n",
    "submission.to_csv(\"submission.csv\", index=False)\n",
    "\n",
    "print(f\"Submission.csv saved successfully using the {model_name} model.\")\n",
    "print(\"\\nSubmission File Head:\")\n",
    "print(submission.head(10))"
   ]
  }
 ],
 "metadata": {
  "kaggle": {
   "accelerator": "none",
   "dataSources": [
    {
     "databundleVersionId": 11895149,
     "sourceId": 99546,
     "sourceType": "competition"
    }
   ],
   "dockerImageVersionId": 31040,
   "isGpuEnabled": false,
   "isInternetEnabled": false,
   "language": "python",
   "sourceType": "notebook"
  },
  "kernelspec": {
   "display_name": "Python 3",
   "language": "python",
   "name": "python3"
  },
  "language_info": {
   "codemirror_mode": {
    "name": "ipython",
    "version": 3
   },
   "file_extension": ".py",
   "mimetype": "text/x-python",
   "name": "python",
   "nbconvert_exporter": "python",
   "pygments_lexer": "ipython3",
   "version": "3.11.11"
  },
  "papermill": {
   "default_parameters": {},
   "duration": 159.09647,
   "end_time": "2025-07-27T18:10:18.427613",
   "environment_variables": {},
   "exception": null,
   "input_path": "__notebook__.ipynb",
   "output_path": "__notebook__.ipynb",
   "parameters": {},
   "start_time": "2025-07-27T18:07:39.331143",
   "version": "2.6.0"
  }
 },
 "nbformat": 4,
 "nbformat_minor": 5
}
